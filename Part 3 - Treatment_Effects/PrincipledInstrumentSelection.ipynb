{
 "cells": [
  {
   "cell_type": "markdown",
   "metadata": {},
   "source": [
    "# ML for Causal Inference: High-Dimensional Instruments\n",
    "\n",
    "From [this medium post](https://medium.com/teconomics-blog/machine-learning-meets-instrumental-variables-c8eecf5cec95) by Emily Glassberg Sands"
   ]
  },
  {
   "cell_type": "code",
   "execution_count": 1,
   "metadata": {},
   "outputs": [
    {
     "name": "stderr",
     "output_type": "stream",
     "text": [
      "Warning message:\n",
      "\"package 'glmnet' was built under R version 3.5.2\"Loading required package: Matrix\n",
      "Loading required package: foreach\n",
      "Warning message:\n",
      "\"package 'foreach' was built under R version 3.5.2\"Loaded glmnet 2.0-16\n",
      "\n",
      "Warning message:\n",
      "\"package 'AER' was built under R version 3.5.2\"Loading required package: car\n",
      "Warning message:\n",
      "\"package 'car' was built under R version 3.5.2\"Loading required package: carData\n",
      "Warning message:\n",
      "\"package 'carData' was built under R version 3.5.2\"Loading required package: lmtest\n",
      "Loading required package: zoo\n",
      "\n",
      "Attaching package: 'zoo'\n",
      "\n",
      "The following objects are masked from 'package:base':\n",
      "\n",
      "    as.Date, as.Date.numeric\n",
      "\n",
      "Loading required package: sandwich\n",
      "Loading required package: survival\n"
     ]
    }
   ],
   "source": [
    "library(glmnet) # RUNS LASSO / RIDGE\n",
    "library(stats)\n",
    "library(ggplot2)\n",
    "library(AER) # RUNS IV"
   ]
  },
  {
   "cell_type": "markdown",
   "metadata": {},
   "source": [
    "## Example: Weak First Stage and Exclusion Restriction Violation"
   ]
  },
  {
   "cell_type": "code",
   "execution_count": 2,
   "metadata": {},
   "outputs": [],
   "source": [
    "#Simulate Data\n",
    "set.seed(1)\n",
    "N <- 1e3 # Number of Observations\n",
    "# Simulate Data for Example in Intro\n",
    "weak <- rnorm(n = N)\n",
    "good <- rnorm(n = N)\n",
    "correl <- rnorm(n = N) \n",
    "C <- 3 * correl + rnorm(n = N)\n",
    "X <- -.000001 * round(weak) + 2.5 * correl + 2.5 * good + .5 * C + rnorm(n = N)\n",
    "Y <- 2.0 * X + 1.1 * C + rnorm(n = N)\n",
    "df <- cbind(Y, X, correl, good, weak)\n",
    "colnames(df) <- c('Y', 'X', 'correl', 'good', 'weak')\n",
    "df <- data.frame(df)"
   ]
  },
  {
   "cell_type": "code",
   "execution_count": 4,
   "metadata": {},
   "outputs": [
    {
     "data": {
      "text/plain": [
       "\n",
       "Call:\n",
       "lm(formula = Y ~ X, data = df)\n",
       "\n",
       "Residuals:\n",
       "    Min      1Q  Median      3Q     Max \n",
       "-7.3707 -1.3519  0.0967  1.4833  7.1721 \n",
       "\n",
       "Coefficients:\n",
       "            Estimate Std. Error t value Pr(>|t|)    \n",
       "(Intercept)  0.05197    0.07199   0.722    0.471    \n",
       "X            2.59080    0.01440 179.964   <2e-16 ***\n",
       "---\n",
       "Signif. codes:  0 '***' 0.001 '**' 0.01 '*' 0.05 '.' 0.1 ' ' 1\n",
       "\n",
       "Residual standard error: 2.276 on 998 degrees of freedom\n",
       "Multiple R-squared:  0.9701,\tAdjusted R-squared:  0.9701 \n",
       "F-statistic: 3.239e+04 on 1 and 998 DF,  p-value: < 2.2e-16\n"
      ]
     },
     "metadata": {},
     "output_type": "display_data"
    }
   ],
   "source": [
    "# No Instrument, naive regression\n",
    "fit.none <- lm(Y ~ X, data = df)\n",
    "summary(fit.none)\n",
    "X.none <- fit.none$coefficients[2]\n",
    "ci.none <- confint(fit.none, 'X', level = 0.95)"
   ]
  },
  {
   "cell_type": "code",
   "execution_count": 5,
   "metadata": {
    "scrolled": true
   },
   "outputs": [
    {
     "data": {
      "text/plain": [
       "\n",
       "Call:\n",
       "ivreg(formula = Y ~ X | good, data = df)\n",
       "\n",
       "Residuals:\n",
       "      Min        1Q    Median        3Q       Max \n",
       "-12.17673  -2.46209  -0.01462   2.48840   9.03775 \n",
       "\n",
       "Coefficients:\n",
       "            Estimate Std. Error z value Pr(>|z|)    \n",
       "(Intercept)  0.05682    0.11246   0.505    0.613    \n",
       "X            2.04400    0.04075  50.155   <2e-16 ***\n",
       "\n",
       "Diagnostic tests:\n",
       "                 df1 df2 statistic p-value    \n",
       "Weak instruments   1 998     435.1  <2e-16 ***\n",
       "Wu-Hausman         1 997    1575.1  <2e-16 ***\n",
       "Sargan             0  NA        NA      NA    \n",
       "---\n",
       "Signif. codes:  0 '***' 0.001 '**' 0.01 '*' 0.05 '.' 0.1 ' ' 1\n",
       "\n",
       "Residual standard error: 3.56 on Inf degrees of freedom\n",
       "Multiple R-Squared: 0.9269,\tAdjusted R-squared: 0.9268 \n",
       "Wald test:  2516 on 1 DF,  p-value: < 2.2e-16 \n"
      ]
     },
     "metadata": {},
     "output_type": "display_data"
    }
   ],
   "source": [
    "# Fit using a good instrument (strong first stage and satisfies exclusion restriction)\n",
    "fit.good <- ivreg(Y ~ X | good, data = df)\n",
    "summary(fit.good, vcov = sandwich, df = Inf, diagnostics = TRUE)\n",
    "X.good <- fit.good$coefficients[2]\n",
    "ci.good <- confint(fit.good, 'X', level = 0.95)"
   ]
  },
  {
   "cell_type": "code",
   "execution_count": 6,
   "metadata": {},
   "outputs": [
    {
     "data": {
      "text/plain": [
       "\n",
       "Call:\n",
       "ivreg(formula = Y ~ X | weak, data = df)\n",
       "\n",
       "Residuals:\n",
       "       Min         1Q     Median         3Q        Max \n",
       "-10.124204  -1.801685   0.004844   1.857427   9.091541 \n",
       "\n",
       "Coefficients:\n",
       "            Estimate Std. Error z value Pr(>|z|)    \n",
       "(Intercept)  0.04916    0.08775   0.560    0.575    \n",
       "X            2.90671    0.47201   6.158 7.36e-10 ***\n",
       "\n",
       "Diagnostic tests:\n",
       "                 df1 df2 statistic p-value\n",
       "Weak instruments   1 998     1.520   0.218\n",
       "Wu-Hausman         1 997     0.698   0.404\n",
       "Sargan             0  NA        NA      NA\n",
       "\n",
       "Residual standard error: 2.772 on Inf degrees of freedom\n",
       "Multiple R-Squared: 0.9557,\tAdjusted R-squared: 0.9556 \n",
       "Wald test: 37.92 on 1 DF,  p-value: 7.363e-10 \n"
      ]
     },
     "metadata": {},
     "output_type": "display_data"
    }
   ],
   "source": [
    "# Fit using a weak instrument (satisfies exclusion restriction)\n",
    "fit.weak <- ivreg(Y ~ X | weak, data = df)\n",
    "summary(fit.weak, vcov = sandwich, df = Inf, diagnostics = TRUE)\n",
    "X.weak <- fit.weak$coefficients[2]\n",
    "ci.weak <- confint(fit.weak, 'X', level = 0.95)"
   ]
  },
  {
   "cell_type": "code",
   "execution_count": 7,
   "metadata": {},
   "outputs": [
    {
     "data": {
      "text/plain": [
       "\n",
       "Call:\n",
       "ivreg(formula = Y ~ X | correl, data = df)\n",
       "\n",
       "Residuals:\n",
       "     Min       1Q   Median       3Q      Max \n",
       "-9.51414 -1.64965 -0.05292  1.71357  8.66626 \n",
       "\n",
       "Coefficients:\n",
       "            Estimate Std. Error z value Pr(>|z|)    \n",
       "(Intercept)  0.04978    0.08177   0.609    0.543    \n",
       "X            2.83672    0.01954 145.181   <2e-16 ***\n",
       "\n",
       "Diagnostic tests:\n",
       "                 df1 df2 statistic p-value    \n",
       "Weak instruments   1 998      2201  <2e-16 ***\n",
       "Wu-Hausman         1 997      1593  <2e-16 ***\n",
       "Sargan             0  NA        NA      NA    \n",
       "---\n",
       "Signif. codes:  0 '***' 0.001 '**' 0.01 '*' 0.05 '.' 0.1 ' ' 1\n",
       "\n",
       "Residual standard error: 2.588 on Inf degrees of freedom\n",
       "Multiple R-Squared: 0.9614,\tAdjusted R-squared: 0.9613 \n",
       "Wald test: 2.108e+04 on 1 DF,  p-value: < 2.2e-16 \n"
      ]
     },
     "metadata": {},
     "output_type": "display_data"
    }
   ],
   "source": [
    "# Fit using an instrument that doesn't satisfy the exclusion restriction (but with a strong first stage)\n",
    "fit.correl <- ivreg(Y ~ X | correl, data = df)\n",
    "summary(fit.correl, vcov = sandwich, df = Inf, diagnostics = TRUE)\n",
    "X.correl <- fit.correl$coefficients[2]\n",
    "ci.correl <- confint(fit.correl, 'X', level = 0.95)"
   ]
  },
  {
   "cell_type": "code",
   "execution_count": 8,
   "metadata": {
    "scrolled": true
   },
   "outputs": [
    {
     "name": "stderr",
     "output_type": "stream",
     "text": [
      "Warning message:\n",
      "\"Removed 1 rows containing missing values (geom_errorbar).\""
     ]
    },
    {
     "data": {
      "image/png": "[encoded data removed]",
      "text/plain": [
       "plot without title"
      ]
     },
     "metadata": {},
     "output_type": "display_data"
    }
   ],
   "source": [
    "# Vector of T coefficients and confidence intervals\n",
    "coefs.ab <- c(2.0, X.good, X.none, X.weak, X.correl)\n",
    "ci.low <- c(NaN, ci.good[1], ci.none[1], ci.weak[1], ci.correl[1])\n",
    "ci.high <- c(NaN, ci.good[2], ci.none[2], ci.weak[2], ci.correl[2])\n",
    "dat <- cbind(coefs.ab, ci.low, ci.high, c('True Effect', 'Good Instrument', 'No Instrument', 'Weak Instrument', 'Failed Exclusion Restriction'))\n",
    "colnames(dat)[4] <- 'Model'\n",
    "dat <- data.frame(dat)\n",
    "dat$coefs.ab <- as.double(levels(dat$coefs.ab))[dat$coefs.ab]\n",
    "dat$ci.low <- as.double(levels(dat$ci.low))[dat$ci.low]\n",
    "dat$ci.high <- as.double(levels(dat$ci.high))[dat$ci.high]\n",
    "dat$Model <- factor(dat$Model, levels = dat$Model)\n",
    "\n",
    "# Create bar graph\n",
    "dodge <- position_dodge(width = 0.9)\n",
    "limits <- aes(ymax = dat$ci.high,\n",
    "              ymin = dat$ci.low)\n",
    "p <- ggplot(data = dat, aes(x = Model, y = coefs.ab, fill = Model))\n",
    "p + geom_bar(stat = \"identity\", position = dodge) +\n",
    "  geom_errorbar(limits, position = dodge, width = 0.25) +\n",
    "    ylab(\"Coefficient on X\") +\n",
    "    ggtitle(\"Estimated Causal Effect of X on Y\") +\n",
    "    theme(axis.title.x=element_blank(),\n",
    "        axis.text.x=element_blank(),\n",
    "        axis.ticks.x=element_blank(), \n",
    "        plot.title = element_text(hjust = 0.5))"
   ]
  },
  {
   "cell_type": "markdown",
   "metadata": {},
   "source": [
    "# LASSO for Instrument Selection"
   ]
  },
  {
   "cell_type": "code",
   "execution_count": 9,
   "metadata": {},
   "outputs": [],
   "source": [
    "# Clear workspace\n",
    "rm(list=ls())\n",
    "invisible(gc()) \n",
    "\n",
    "#Simulate Data\n",
    "set.seed(1)\n",
    "N <- 1e3 # Number of Observations\n",
    "p <- 500 # Number of instruments (excluding unobservable)\n",
    "\n",
    "# Generate matrix M of p randomly assigned AB tests\n",
    "M <- matrix(0, N, p)\n",
    "M[0:(N/2),] <- 1\n",
    "M <- apply(t(M), 1, function(d) sample(d, N))\n",
    "# Create an unobservable C\n",
    "C <- rnorm(n = N)\n",
    "\n",
    "# Create X as a function of weak instruments, good instruments, instruments that don't satisfy the exclusion restriction, and C\n",
    "beta.X <- rnorm(p, mean = 0, sd = 5) * sign(rnorm(n = p))\n",
    "beta.X[1:20] <- rnorm(20, mean = 1, sd = 4)\n",
    "beta.X[21:25] <- 100\n",
    "beta.X[201:p] <- 0\n",
    "X <- M %*% beta.X + 120 * C + rnorm(n = N)\n",
    "    \n",
    "# Create Y as a function of X, C, and other variables that affect X\n",
    "beta.Y <- rnorm(20, mean = 5, sd = 3) * sign(rnorm(n = 20))\n",
    "Y <- 2.0 * X + 200 * C + rnorm(n = N) + M[, 1:20] %*% beta.Y\n",
    "    \n",
    "# Create data frames with and without variables that don't satisfy the exclusion restriction\n",
    "colnames(M) <- colnames(data.frame('M' = M))\n",
    "M.excl <- M[, 21:p]\n",
    "df.allM <- data.frame('Y' = Y, 'X' = X, M)\n",
    "df.excl <- data.frame('Y' = Y, 'X' = X, M.excl)"
   ]
  },
  {
   "cell_type": "markdown",
   "metadata": {},
   "source": [
    "## LASSO X on M"
   ]
  },
  {
   "cell_type": "code",
   "execution_count": 10,
   "metadata": {},
   "outputs": [
    {
     "data": {
      "text/html": [
       "5"
      ],
      "text/latex": [
       "5"
      ],
      "text/markdown": [
       "5"
      ],
      "text/plain": [
       "[1] 5"
      ]
     },
     "metadata": {},
     "output_type": "display_data"
    },
    {
     "data": {
      "text/html": [
       "<ol class=list-inline>\n",
       "\t<li>'M.21'</li>\n",
       "\t<li>'M.22'</li>\n",
       "\t<li>'M.23'</li>\n",
       "\t<li>'M.24'</li>\n",
       "\t<li>'M.25'</li>\n",
       "</ol>\n"
      ],
      "text/latex": [
       "\\begin{enumerate*}\n",
       "\\item 'M.21'\n",
       "\\item 'M.22'\n",
       "\\item 'M.23'\n",
       "\\item 'M.24'\n",
       "\\item 'M.25'\n",
       "\\end{enumerate*}\n"
      ],
      "text/markdown": [
       "1. 'M.21'\n",
       "2. 'M.22'\n",
       "3. 'M.23'\n",
       "4. 'M.24'\n",
       "5. 'M.25'\n",
       "\n",
       "\n"
      ],
      "text/plain": [
       "[1] \"M.21\" \"M.22\" \"M.23\" \"M.24\" \"M.25\""
      ]
     },
     "metadata": {},
     "output_type": "display_data"
    }
   ],
   "source": [
    "lasso.fit <- cv.glmnet(M.excl, df.excl$X, alpha=1)\n",
    "coef <- predict(lasso.fit, type = \"nonzero\")\n",
    "M.excl.names <- colnames(M.excl)\n",
    "Z <- M.excl.names[unlist(coef)]\n",
    "# Instruments selected by LASSO:\n",
    "length(Z)\n",
    "Z"
   ]
  },
  {
   "cell_type": "code",
   "execution_count": 11,
   "metadata": {},
   "outputs": [
    {
     "data": {
      "text/plain": [
       "\n",
       "Call:\n",
       "ivreg(formula = Y ~ X | M.21 + M.22 + M.23 + M.24 + M.25, data = df.excl)\n",
       "\n",
       "Residuals:\n",
       "    Min      1Q  Median      3Q     Max \n",
       "-615.94 -130.35   -3.31  134.91  635.94 \n",
       "\n",
       "Coefficients:\n",
       "            Estimate Std. Error z value Pr(>|z|)    \n",
       "(Intercept)  7.37624   14.17835    0.52    0.603    \n",
       "X            1.98078    0.05733   34.55   <2e-16 ***\n",
       "\n",
       "Diagnostic tests:\n",
       "                 df1 df2 statistic p-value    \n",
       "Weak instruments   5 994   164.292  <2e-16 ***\n",
       "Wu-Hausman         1 997  4199.733  <2e-16 ***\n",
       "Sargan             4  NA     2.006   0.735    \n",
       "---\n",
       "Signif. codes:  0 '***' 0.001 '**' 0.01 '*' 0.05 '.' 0.1 ' ' 1\n",
       "\n",
       "Residual standard error: 203.7 on Inf degrees of freedom\n",
       "Multiple R-Squared: 0.8297,\tAdjusted R-squared: 0.8295 \n",
       "Wald test:  1194 on 1 DF,  p-value: < 2.2e-16 \n"
      ]
     },
     "metadata": {},
     "output_type": "display_data"
    }
   ],
   "source": [
    "# Run the IV\n",
    "Z.list <- paste(\"~ \", paste(Z, collapse = \" + \"))\n",
    "fit.lasso.excl <- ivreg(Y ~ X, Z.list, data = df.excl)\n",
    "summary(fit.lasso.excl, vcov = sandwich, df = Inf, diagnostics = TRUE)\n",
    "X.lasso.excl <- fit.lasso.excl$coefficients[2]\n",
    "ci.lasso.excl <- confint(fit.lasso.excl, 'X', level = 0.95, vcov = sandwich)"
   ]
  },
  {
   "cell_type": "code",
   "execution_count": 12,
   "metadata": {},
   "outputs": [
    {
     "data": {
      "text/plain": [
       "\n",
       "Call:\n",
       "lm(formula = firststage, data = df.excl)\n",
       "\n",
       "Residuals:\n",
       "    Min      1Q  Median      3Q     Max \n",
       "-397.84  -83.23   -3.36   83.53  365.24 \n",
       "\n",
       "Coefficients:\n",
       "            Estimate Std. Error t value Pr(>|t|)    \n",
       "(Intercept)  -18.561      9.538  -1.946   0.0519 .  \n",
       "M.21          95.071      7.838  12.129   <2e-16 ***\n",
       "M.22         108.329      7.854  13.792   <2e-16 ***\n",
       "M.23          88.480      7.848  11.274   <2e-16 ***\n",
       "M.24          97.049      7.850  12.363   <2e-16 ***\n",
       "M.25          97.148      7.833  12.402   <2e-16 ***\n",
       "---\n",
       "Signif. codes:  0 '***' 0.001 '**' 0.01 '*' 0.05 '.' 0.1 ' ' 1\n",
       "\n",
       "Residual standard error: 123.7 on 994 degrees of freedom\n",
       "Multiple R-squared:  0.4403,\tAdjusted R-squared:  0.4375 \n",
       "F-statistic: 156.4 on 5 and 994 DF,  p-value: < 2.2e-16\n"
      ]
     },
     "metadata": {},
     "output_type": "display_data"
    }
   ],
   "source": [
    "# 1st Stage\n",
    "firststage <- paste(\"X ~ \", paste(Z, collapse = \" + \"))\n",
    "fit.firststage <- lm(firststage, data = df.excl)\n",
    "summary(fit.firststage)"
   ]
  },
  {
   "cell_type": "code",
   "execution_count": 13,
   "metadata": {},
   "outputs": [],
   "source": [
    "# No instruments\n",
    "fit.noinst <- lm(Y ~ X, data = df.allM)\n",
    "X.noinst <- fit.noinst$coefficients[2]\n",
    "ci.noinst <- confint(fit.noinst, 'X', level = 0.95)\n",
    "\n",
    "# Largest subset of all possible IV\n",
    "M.names <- colnames(M)\n",
    "M.largest.list <- paste(\"~ \", paste(M.names[1:p], collapse = \" + \"))\n",
    "fit.largest <- ivreg(Y ~ X, M.largest.list, data = df.allM)\n",
    "X.largest <- fit.largest$coefficients[2]\n",
    "ci.largest <- confint(fit.largest, 'X', level = 0.95, vcov = sandwich)"
   ]
  },
  {
   "cell_type": "code",
   "execution_count": 14,
   "metadata": {},
   "outputs": [
    {
     "name": "stderr",
     "output_type": "stream",
     "text": [
      "Warning message:\n",
      "\"Removed 1 rows containing missing values (geom_errorbar).\""
     ]
    },
    {
     "data": {
      "image/png": "[encoded data removed]",
      "text/plain": [
       "plot without title"
      ]
     },
     "metadata": {},
     "output_type": "display_data"
    }
   ],
   "source": [
    "# Vector of T coefficients and confidence intervals\n",
    "coefs.ab <- c(2.0, X.lasso.excl, X.noinst, X.largest)\n",
    "ci.low <- c(NaN, ci.lasso.excl[1], ci.noinst[1], ci.largest[1])\n",
    "ci.high <- c(NaN, ci.lasso.excl[2], ci.noinst[2], ci.largest[2])\n",
    "dat <- cbind(coefs.ab, ci.low, ci.high, c('True Effect', 'LASSO','No Instruments',\n",
    "                                          'All Instruments'))\n",
    "colnames(dat)[4] <- 'Model'\n",
    "dat <- data.frame(dat)\n",
    "dat$coefs.ab <- as.double(levels(dat$coefs.ab))[dat$coefs.ab]\n",
    "dat$ci.low <- as.double(levels(dat$ci.low))[dat$ci.low]\n",
    "dat$ci.high <- as.double(levels(dat$ci.high))[dat$ci.high]\n",
    "dat$Model <- factor(dat$Model, levels = dat$Model)\n",
    "\n",
    "# Create bar graph\n",
    "dodge <- position_dodge(width = 0.9)\n",
    "limits <- aes(ymax = dat$ci.high,\n",
    "              ymin = dat$ci.low)\n",
    "p <- ggplot(data = dat, aes(x = Model, y = coefs.ab, fill = Model))\n",
    "p + geom_bar(stat = \"identity\", position = dodge) +\n",
    "  geom_errorbar(limits, position = dodge, width = 0.25) +\n",
    "    ylab(\"Coefficient on X\") +\n",
    "    ggtitle(\"Estimated Causal Effect of X on Y\") +\n",
    "    theme(axis.title.x=element_blank(),\n",
    "        axis.text.x=element_blank(),\n",
    "        axis.ticks.x=element_blank(), \n",
    "        plot.title = element_text(hjust = 0.5))"
   ]
  },
  {
   "cell_type": "code",
   "execution_count": null,
   "metadata": {
    "collapsed": true
   },
   "outputs": [],
   "source": []
  }
 ],
 "metadata": {
  "anaconda-cloud": {},
  "kernelspec": {
   "display_name": "R",
   "language": "R",
   "name": "ir"
  },
  "language_info": {
   "codemirror_mode": "r",
   "file_extension": ".r",
   "mimetype": "text/x-r-source",
   "name": "R",
   "pygments_lexer": "r",
   "version": "3.5.1"
  }
 },
 "nbformat": 4,
 "nbformat_minor": 2
}
