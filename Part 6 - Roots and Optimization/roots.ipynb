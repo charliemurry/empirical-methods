{
 "cells": [
  {
   "cell_type": "markdown",
   "metadata": {},
   "source": [
    "## Root Finding (and Fixed Points)\n",
    "\n",
    "There are many many examples from economics we seek to either find the root or the fixed point to a non-linear of (often many) equations, which cannot be computed analytically.\n",
    "\n",
    "Many estimation algorithms for equilibrium problems involve a nested structure where there is some root-finding problem in the inner nest: BLP, dynamic discrete choice (rust, labor models), trade models, steady state of dynamic models.\n"
   ]
  },
  {
   "cell_type": "markdown",
   "metadata": {},
   "source": [
    "*Defn:* Roots.\n",
    "A function $g$ from $R^n$ to $R^n$ is given and one must find a vector $x$ that satisfies $x = g(x)$.\n",
    "\n",
    "<img src=\"files/graph1.png\" width=\"75%\"/>\n",
    "\n",
    "\n",
    "#### Examples\n",
    "\n",
    "- Demand and Supply market clearing.\n",
    "- FOCs from an optimization problem.\n",
    "\n",
    "\n",
    "### Iterative Methods\n",
    "\n",
    "We will consider methods that *systematically* look over the range of $x$ until $f(x) = 0$\n",
    "\n",
    "### 1. Bisection Method\n",
    "\n",
    "Intermediate Value Theorem: If a continuous real-valued function assumes two distinct values, then it must assume all values in between. \n",
    "\n",
    "If $f$ is continuous and $f(a)$ and $f(b)$ have different signs, then there must be at least one root $x$ in $[a,b]$.\n",
    "\n",
    "Evaluate $f$ at the bisection of $a$ and $b$. Take the new interval to be the bisected interval with endpoints of different signs. Repeat. \n",
    "\n",
    "<img src=\"files/graph1.png\" width=\"75%\"/>\n",
    "\n",
    "##### Bisection Example"
   ]
  },
  {
   "cell_type": "code",
   "execution_count": 2,
   "metadata": {},
   "outputs": [],
   "source": [
    "# Set up packages\n",
    "using Printf\n",
    "# import Pkg\n",
    "# Pkg.add(\"Plots\")\n",
    "using Plots"
   ]
  },
  {
   "cell_type": "code",
   "execution_count": 3,
   "metadata": {},
   "outputs": [
    {
     "data": {
      "text/plain": [
       "f (generic function with 1 method)"
      ]
     },
     "execution_count": 3,
     "metadata": {},
     "output_type": "execute_result"
    }
   ],
   "source": [
    "f(x) = 3 + 50*x.^3"
   ]
  },
  {
   "cell_type": "code",
   "execution_count": 4,
   "metadata": {},
   "outputs": [],
   "source": [
    "a = -6.0;\n",
    "b = 12.0;"
   ]
  },
  {
   "cell_type": "code",
   "execution_count": 5,
   "metadata": {},
   "outputs": [],
   "source": [
    "tol = 1e-4;\n",
    "s = sign(f(a)); # sign if the left boundary\n",
    "x = (a+b)/2; # inital midpoint\n",
    "d = (b-a)/2;\n",
    "xsave=[];"
   ]
  },
  {
   "cell_type": "code",
   "execution_count": 6,
   "metadata": {},
   "outputs": [
    {
     "name": "stdout",
     "output_type": "stream",
     "text": [
      "Solution using user written code: x = -0.39155\n",
      "\n",
      "Are we at a zero? f(x) = -0.00141"
     ]
    }
   ],
   "source": [
    "while d>tol\n",
    "    d=d/2; # length to cut the next interval\n",
    "    push!(xsave, x)\n",
    "    \n",
    "    if s == sign(f(x))\n",
    "        x = x+d;\n",
    "    else\n",
    "        x = x-d;\n",
    "    end\n",
    "end\n",
    "push!(xsave,x)\n",
    "\n",
    "@printf \"Solution using user written code: x = %3.5f\\n\\n\" x\n",
    "\n",
    "@printf \"Are we at a zero? f(x) = %3.5f\" f(x)\n"
   ]
  },
  {
   "cell_type": "markdown",
   "metadata": {},
   "source": [
    "**Pros and cons of bisection**\n",
    "\n",
    "* Pro: Guaranteed to find a root.\n",
    "* Con: Slow (no gradient information).\n",
    "* Con: Will only find one root.\n",
    "* Con: Only good for single variable functions\n",
    "* Con: Can be very slow b/c it does not use info on shape of function"
   ]
  },
  {
   "cell_type": "markdown",
   "metadata": {},
   "source": [
    "### 2. Function iteration\n",
    "\n",
    "* Supply a guess $x^0$\n",
    "* Use the updating rule $x^{(t+1)} \\leftarrow g(x^{(t)})$.\n",
    " \n",
    "The starting guess must be close to the fixed point where $||g'(x*)||<1$\n",
    "\n",
    "\n",
    "<br><br><br><br>\n",
    "<img src=\"files/graph2.png\" width=\"75%\"/>\n",
    "<br><br><br><br>\n",
    "\n",
    "\n",
    "#### Example\n",
    "\n"
   ]
  },
  {
   "cell_type": "code",
   "execution_count": 7,
   "metadata": {},
   "outputs": [
    {
     "data": {
      "text/plain": [
       "fncIteration (generic function with 1 method)"
      ]
     },
     "execution_count": 7,
     "metadata": {},
     "output_type": "execute_result"
    }
   ],
   "source": [
    "\n",
    "function fncIteration(g::Function,x::Float64)\n",
    "\n",
    "    d = 100.0\n",
    "    tol = 1e-4\n",
    "    \n",
    "    while d>tol\n",
    "    \n",
    "        d = abs(x-g(x))\n",
    "        x = g(x)\n",
    "    \n",
    "    end\n",
    "\n",
    "    return x\n",
    "end\n",
    "\n"
   ]
  },
  {
   "cell_type": "code",
   "execution_count": 8,
   "metadata": {},
   "outputs": [
    {
     "name": "stdout",
     "output_type": "stream",
     "text": [
      "Solution using user written code: x = 0.99993"
     ]
    }
   ],
   "source": [
    "h(x) = x.^0.5;\n",
    "x = 0.1\n",
    "\n",
    "sol = fncIteration(h,x)\n",
    "\n",
    "@printf \"Solution using user written code: x = %3.5f\" sol"
   ]
  },
  {
   "cell_type": "markdown",
   "metadata": {},
   "source": [
    "### 3. Newton's Method\n",
    "\n",
    "* Use derivative information\n",
    "* Probably most common method.\n",
    "* Sometimes we know the derivative (pen a paper).\n",
    "* Sometimes we need to approximate the derivative.\n",
    "* Same thing goes with second derivatives. \n",
    "\n",
    "*The idea:*\n",
    "\n",
    "1. guess a point\n",
    "2. linearize the function around that point \n",
    "3. find the root of the linear function using taylor expansion\n",
    "4. use that point as your new guess and repeat\n",
    "\n",
    "\n",
    "\n",
    "<br><br><br><br>\n",
    "<img src=\"files/graph3.png\" width=\"75%\"/>\n",
    "<br><br><br><br>\n",
    "\n",
    "\n",
    "\n",
    "\n",
    "First-order Taylor approximation: $f(x)\\approx f(x^t) + f'(x^t)(x - x^t) = 0$\n",
    "\n",
    "which yields the following iteration rule: $x^{t+1}\\leftarrow x^t - [f'(x^t)]^{-1}f(x^t)$\n",
    "\n",
    "* *What do you notice about this iterative method?*\n",
    "* We need to know the derivative!\n",
    "* We will discuss this in detail later.\n",
    "\n",
    "\n",
    "*Convergence*: Judd Theorem 2.1 (page 130) -- If $x^1$ is \"sufficiently\" close\n",
    "to $x^*$, $f'(x^*)\\ne0$ and $\\mid \\frac{f''(x^*)}{f'(x^*)}<\\infty$, then the Newton\n",
    "sequence will converge to $x^*$. Also, $f$ needs to be \"smooth.\"\n",
    "\n",
    "* Warning: if $f'(x^t)$ is close to zero, then it can overshoot and cause problems\n",
    "\n",
    "\n",
    "\n",
    "#### Newton Example\n",
    "\n",
    "Simple demand function in a separate file:\n"
   ]
  },
  {
   "cell_type": "code",
   "execution_count": 9,
   "metadata": {},
   "outputs": [],
   "source": [
    "# Demand\n",
    "q(p) = -12.0 + 2.0 .*p.^(-3.0);\n",
    "\n",
    "# 1st derivative of demand\n",
    "Dq(p) = -6.0 .*p.^(-4.0);\n"
   ]
  },
  {
   "cell_type": "code",
   "execution_count": 14,
   "metadata": {},
   "outputs": [
    {
     "data": {
      "text/plain": [
       "nm (generic function with 1 method)"
      ]
     },
     "execution_count": 14,
     "metadata": {},
     "output_type": "execute_result"
    }
   ],
   "source": [
    "function nm(f::Function, fp::Function, x::Float64; tol=0.0000001)\n",
    "   \n",
    "    ctr=0;max_steps=100;\n",
    "     \n",
    "    while (abs(f(x)) > tol) && ctr < max_steps\n",
    "        x = x - f(x) / fp(x)\n",
    "        ctr = ctr + 1\n",
    "    end\n",
    "\n",
    "    ctr >= max_steps ? error(\"Method did not converge\") : return x\n",
    "    \n",
    "end\n",
    "\n"
   ]
  },
  {
   "cell_type": "code",
   "execution_count": 15,
   "metadata": {},
   "outputs": [
    {
     "name": "stdout",
     "output_type": "stream",
     "text": [
      "Solution using user written code: p = 0.55032"
     ]
    }
   ],
   "source": [
    "sol_nm = nm(q,Dq,0.1)\n",
    "\n",
    "@printf \"Solution using user written code: p = %3.5f\" sol_nm"
   ]
  },
  {
   "cell_type": "markdown",
   "metadata": {},
   "source": [
    "What happens if we pick a weird starting value?\n",
    "\n",
    "Let's visualize the function first. "
   ]
  },
  {
   "cell_type": "code",
   "execution_count": 16,
   "metadata": {},
   "outputs": [
    {
     "data": {
      "text/plain": [
       "41-element Array{Float64,1}:\n",
       " 62.074074074074076\n",
       " 55.13436944043504\n",
       " 49.03515624999999\n",
       " 43.652948214931676\n",
       " 38.885406065540394\n",
       " 34.64723032069972\n",
       " 30.866941015089168\n",
       " 27.484334590251322\n",
       " 24.44846187490888\n",
       " 21.716010047370993\n",
       " 19.249999999999996\n",
       " 17.01873159124215\n",
       " 14.99492495410863\n",
       "  ⋮\n",
       " -2.26190603713135\n",
       " -2.7407407407407405\n",
       " -3.188689802230142\n",
       " -3.6082038199456203\n",
       " -4.001503717301148\n",
       " -4.370605468750001\n",
       " -4.717341829767866\n",
       " -5.0433814731335405\n",
       " -5.3502458746587855\n",
       " -5.639324241807451\n",
       " -5.911886736740849\n",
       " -6.169096209912535"
      ]
     },
     "execution_count": 16,
     "metadata": {},
     "output_type": "execute_result"
    }
   ],
   "source": [
    "xvals = 0.3:0.01:0.70\n",
    "yvals = zero(similar(xvals));\n",
    "yvals = [q(xvals[i]) for i=1:length(xvals)]"
   ]
  },
  {
   "cell_type": "code",
   "execution_count": 17,
   "metadata": {},
   "outputs": [
    {
     "data": {
      "image/svg+xml": [
       "<?xml version=\"1.0\" encoding=\"utf-8\"?>\n",
       "<svg xmlns=\"http://www.w3.org/2000/svg\" xmlns:xlink=\"http://www.w3.org/1999/xlink\" width=\"600\" height=\"400\" viewBox=\"0 0 2400 1600\">\n",
       "<defs>\n",
       "  <clipPath id=\"clip410\">\n",
       "    <rect x=\"0\" y=\"0\" width=\"2400\" height=\"1600\"/>\n",
       "  </clipPath>\n",
       "</defs>\n",
       "<path clip-path=\"url(#clip410)\" d=\"\n",
       "M0 1600 L2400 1600 L2400 0 L0 0  Z\n",
       "  \" fill=\"#ffffff\" fill-rule=\"evenodd\" fill-opacity=\"1\"/>\n",
       "<defs>\n",
       "  <clipPath id=\"clip411\">\n",
       "    <rect x=\"480\" y=\"0\" width=\"1681\" height=\"1600\"/>\n",
       "  </clipPath>\n",
       "</defs>\n",
       "<path clip-path=\"url(#clip410)\" d=\"\n",
       "M139.191 1486.45 L2352.76 1486.45 L2352.76 47.2441 L139.191 47.2441  Z\n",
       "  \" fill=\"#ffffff\" fill-rule=\"evenodd\" fill-opacity=\"1\"/>\n",
       "<defs>\n",
       "  <clipPath id=\"clip412\">\n",
       "    <rect x=\"139\" y=\"47\" width=\"2215\" height=\"1440\"/>\n",
       "  </clipPath>\n",
       "</defs>\n",
       "<polyline clip-path=\"url(#clip412)\" style=\"stroke:#000000; stroke-width:2; stroke-opacity:0.1; fill:none\" points=\"\n",
       "  201.839,1486.45 201.839,47.2441 \n",
       "  \"/>\n",
       "<polyline clip-path=\"url(#clip412)\" style=\"stroke:#000000; stroke-width:2; stroke-opacity:0.1; fill:none\" points=\"\n",
       "  723.906,1486.45 723.906,47.2441 \n",
       "  \"/>\n",
       "<polyline clip-path=\"url(#clip412)\" style=\"stroke:#000000; stroke-width:2; stroke-opacity:0.1; fill:none\" points=\"\n",
       "  1245.97,1486.45 1245.97,47.2441 \n",
       "  \"/>\n",
       "<polyline clip-path=\"url(#clip412)\" style=\"stroke:#000000; stroke-width:2; stroke-opacity:0.1; fill:none\" points=\"\n",
       "  1768.04,1486.45 1768.04,47.2441 \n",
       "  \"/>\n",
       "<polyline clip-path=\"url(#clip412)\" style=\"stroke:#000000; stroke-width:2; stroke-opacity:0.1; fill:none\" points=\"\n",
       "  2290.11,1486.45 2290.11,47.2441 \n",
       "  \"/>\n",
       "<polyline clip-path=\"url(#clip410)\" style=\"stroke:#000000; stroke-width:4; stroke-opacity:1; fill:none\" points=\"\n",
       "  139.191,1486.45 2352.76,1486.45 \n",
       "  \"/>\n",
       "<polyline clip-path=\"url(#clip410)\" style=\"stroke:#000000; stroke-width:4; stroke-opacity:1; fill:none\" points=\"\n",
       "  201.839,1486.45 201.839,1469.18 \n",
       "  \"/>\n",
       "<polyline clip-path=\"url(#clip410)\" style=\"stroke:#000000; stroke-width:4; stroke-opacity:1; fill:none\" points=\"\n",
       "  723.906,1486.45 723.906,1469.18 \n",
       "  \"/>\n",
       "<polyline clip-path=\"url(#clip410)\" style=\"stroke:#000000; stroke-width:4; stroke-opacity:1; fill:none\" points=\"\n",
       "  1245.97,1486.45 1245.97,1469.18 \n",
       "  \"/>\n",
       "<polyline clip-path=\"url(#clip410)\" style=\"stroke:#000000; stroke-width:4; stroke-opacity:1; fill:none\" points=\"\n",
       "  1768.04,1486.45 1768.04,1469.18 \n",
       "  \"/>\n",
       "<polyline clip-path=\"url(#clip410)\" style=\"stroke:#000000; stroke-width:4; stroke-opacity:1; fill:none\" points=\"\n",
       "  2290.11,1486.45 2290.11,1469.18 \n",
       "  \"/>\n",
       "<path clip-path=\"url(#clip410)\" d=\"M 0 0 M183.679 1515.64 Q180.068 1515.64 178.24 1519.2 Q176.434 1522.75 176.434 1529.87 Q176.434 1536.98 178.24 1540.55 Q180.068 1544.09 183.679 1544.09 Q187.314 1544.09 189.119 1540.55 Q190.948 1536.98 190.948 1529.87 Q190.948 1522.75 189.119 1519.2 Q187.314 1515.64 183.679 1515.64 M183.679 1511.93 Q189.49 1511.93 192.545 1516.54 Q195.624 1521.12 195.624 1529.87 Q195.624 1538.6 192.545 1543.21 Q189.49 1547.79 183.679 1547.79 Q177.869 1547.79 174.791 1543.21 Q171.735 1538.6 171.735 1529.87 Q171.735 1521.12 174.791 1516.54 Q177.869 1511.93 183.679 1511.93 Z\" fill=\"#000000\" fill-rule=\"evenodd\" fill-opacity=\"1\" /><path clip-path=\"url(#clip410)\" d=\"M 0 0 M200.693 1541.24 L205.577 1541.24 L205.577 1547.12 L200.693 1547.12 L200.693 1541.24 Z\" fill=\"#000000\" fill-rule=\"evenodd\" fill-opacity=\"1\" /><path clip-path=\"url(#clip410)\" d=\"M 0 0 M224.813 1528.49 Q228.17 1529.2 230.045 1531.47 Q231.943 1533.74 231.943 1537.07 Q231.943 1542.19 228.424 1544.99 Q224.906 1547.79 218.425 1547.79 Q216.249 1547.79 213.934 1547.35 Q211.642 1546.93 209.188 1546.08 L209.188 1541.56 Q211.133 1542.7 213.448 1543.28 Q215.763 1543.86 218.286 1543.86 Q222.684 1543.86 224.975 1542.12 Q227.29 1540.38 227.29 1537.07 Q227.29 1534.02 225.137 1532.31 Q223.008 1530.57 219.188 1530.57 L215.161 1530.57 L215.161 1526.73 L219.374 1526.73 Q222.823 1526.73 224.651 1525.36 Q226.48 1523.97 226.48 1521.38 Q226.48 1518.72 224.582 1517.31 Q222.707 1515.87 219.188 1515.87 Q217.267 1515.87 215.068 1516.29 Q212.869 1516.7 210.23 1517.58 L210.23 1513.42 Q212.892 1512.68 215.207 1512.31 Q217.545 1511.93 219.605 1511.93 Q224.929 1511.93 228.031 1514.37 Q231.133 1516.77 231.133 1520.89 Q231.133 1523.76 229.489 1525.75 Q227.846 1527.72 224.813 1528.49 Z\" fill=\"#000000\" fill-rule=\"evenodd\" fill-opacity=\"1\" /><path clip-path=\"url(#clip410)\" d=\"M 0 0 M705.179 1515.64 Q701.568 1515.64 699.74 1519.2 Q697.934 1522.75 697.934 1529.87 Q697.934 1536.98 699.74 1540.55 Q701.568 1544.09 705.179 1544.09 Q708.814 1544.09 710.619 1540.55 Q712.448 1536.98 712.448 1529.87 Q712.448 1522.75 710.619 1519.2 Q708.814 1515.64 705.179 1515.64 M705.179 1511.93 Q710.99 1511.93 714.045 1516.54 Q717.124 1521.12 717.124 1529.87 Q717.124 1538.6 714.045 1543.21 Q710.99 1547.79 705.179 1547.79 Q699.369 1547.79 696.291 1543.21 Q693.235 1538.6 693.235 1529.87 Q693.235 1521.12 696.291 1516.54 Q699.369 1511.93 705.179 1511.93 Z\" fill=\"#000000\" fill-rule=\"evenodd\" fill-opacity=\"1\" /><path clip-path=\"url(#clip410)\" d=\"M 0 0 M722.193 1541.24 L727.077 1541.24 L727.077 1547.12 L722.193 1547.12 L722.193 1541.24 Z\" fill=\"#000000\" fill-rule=\"evenodd\" fill-opacity=\"1\" /><path clip-path=\"url(#clip410)\" d=\"M 0 0 M744.994 1516.63 L733.189 1535.08 L744.994 1535.08 L744.994 1516.63 M743.767 1512.56 L749.647 1512.56 L749.647 1535.08 L754.577 1535.08 L754.577 1538.97 L749.647 1538.97 L749.647 1547.12 L744.994 1547.12 L744.994 1538.97 L729.392 1538.97 L729.392 1534.46 L743.767 1512.56 Z\" fill=\"#000000\" fill-rule=\"evenodd\" fill-opacity=\"1\" /><path clip-path=\"url(#clip410)\" d=\"M 0 0 M1227.99 1515.64 Q1224.38 1515.64 1222.55 1519.2 Q1220.74 1522.75 1220.74 1529.87 Q1220.74 1536.98 1222.55 1540.55 Q1224.38 1544.09 1227.99 1544.09 Q1231.62 1544.09 1233.43 1540.55 Q1235.26 1536.98 1235.26 1529.87 Q1235.26 1522.75 1233.43 1519.2 Q1231.62 1515.64 1227.99 1515.64 M1227.99 1511.93 Q1233.8 1511.93 1236.85 1516.54 Q1239.93 1521.12 1239.93 1529.87 Q1239.93 1538.6 1236.85 1543.21 Q1233.8 1547.79 1227.99 1547.79 Q1222.18 1547.79 1219.1 1543.21 Q1216.04 1538.6 1216.04 1529.87 Q1216.04 1521.12 1219.1 1516.54 Q1222.18 1511.93 1227.99 1511.93 Z\" fill=\"#000000\" fill-rule=\"evenodd\" fill-opacity=\"1\" /><path clip-path=\"url(#clip410)\" d=\"M 0 0 M1245 1541.24 L1249.89 1541.24 L1249.89 1547.12 L1245 1547.12 L1245 1541.24 Z\" fill=\"#000000\" fill-rule=\"evenodd\" fill-opacity=\"1\" /><path clip-path=\"url(#clip410)\" d=\"M 0 0 M1255 1512.56 L1273.36 1512.56 L1273.36 1516.5 L1259.28 1516.5 L1259.28 1524.97 Q1260.3 1524.62 1261.32 1524.46 Q1262.34 1524.27 1263.36 1524.27 Q1269.14 1524.27 1272.52 1527.44 Q1275.9 1530.62 1275.9 1536.03 Q1275.9 1541.61 1272.43 1544.71 Q1268.96 1547.79 1262.64 1547.79 Q1260.46 1547.79 1258.2 1547.42 Q1255.95 1547.05 1253.54 1546.31 L1253.54 1541.61 Q1255.63 1542.74 1257.85 1543.3 Q1260.07 1543.86 1262.55 1543.86 Q1266.55 1543.86 1268.89 1541.75 Q1271.23 1539.64 1271.23 1536.03 Q1271.23 1532.42 1268.89 1530.31 Q1266.55 1528.21 1262.55 1528.21 Q1260.67 1528.21 1258.8 1528.62 Q1256.95 1529.04 1255 1529.92 L1255 1512.56 Z\" fill=\"#000000\" fill-rule=\"evenodd\" fill-opacity=\"1\" /><path clip-path=\"url(#clip410)\" d=\"M 0 0 M1749.48 1515.64 Q1745.86 1515.64 1744.04 1519.2 Q1742.23 1522.75 1742.23 1529.87 Q1742.23 1536.98 1744.04 1540.55 Q1745.86 1544.09 1749.48 1544.09 Q1753.11 1544.09 1754.92 1540.55 Q1756.74 1536.98 1756.74 1529.87 Q1756.74 1522.75 1754.92 1519.2 Q1753.11 1515.64 1749.48 1515.64 M1749.48 1511.93 Q1755.29 1511.93 1758.34 1516.54 Q1761.42 1521.12 1761.42 1529.87 Q1761.42 1538.6 1758.34 1543.21 Q1755.29 1547.79 1749.48 1547.79 Q1743.67 1547.79 1740.59 1543.21 Q1737.53 1538.6 1737.53 1529.87 Q1737.53 1521.12 1740.59 1516.54 Q1743.67 1511.93 1749.48 1511.93 Z\" fill=\"#000000\" fill-rule=\"evenodd\" fill-opacity=\"1\" /><path clip-path=\"url(#clip410)\" d=\"M 0 0 M1766.49 1541.24 L1771.37 1541.24 L1771.37 1547.12 L1766.49 1547.12 L1766.49 1541.24 Z\" fill=\"#000000\" fill-rule=\"evenodd\" fill-opacity=\"1\" /><path clip-path=\"url(#clip410)\" d=\"M 0 0 M1787.02 1527.98 Q1783.87 1527.98 1782.02 1530.13 Q1780.19 1532.28 1780.19 1536.03 Q1780.19 1539.76 1782.02 1541.93 Q1783.87 1544.09 1787.02 1544.09 Q1790.17 1544.09 1792 1541.93 Q1793.85 1539.76 1793.85 1536.03 Q1793.85 1532.28 1792 1530.13 Q1790.17 1527.98 1787.02 1527.98 M1796.3 1513.32 L1796.3 1517.58 Q1794.55 1516.75 1792.74 1516.31 Q1790.96 1515.87 1789.2 1515.87 Q1784.57 1515.87 1782.11 1519 Q1779.68 1522.12 1779.34 1528.44 Q1780.7 1526.43 1782.76 1525.36 Q1784.82 1524.27 1787.3 1524.27 Q1792.51 1524.27 1795.52 1527.44 Q1798.55 1530.59 1798.55 1536.03 Q1798.55 1541.36 1795.4 1544.57 Q1792.25 1547.79 1787.02 1547.79 Q1781.03 1547.79 1777.86 1543.21 Q1774.68 1538.6 1774.68 1529.87 Q1774.68 1521.68 1778.57 1516.82 Q1782.46 1511.93 1789.01 1511.93 Q1790.77 1511.93 1792.55 1512.28 Q1794.36 1512.63 1796.3 1513.32 Z\" fill=\"#000000\" fill-rule=\"evenodd\" fill-opacity=\"1\" /><path clip-path=\"url(#clip410)\" d=\"M 0 0 M2272.08 1515.64 Q2268.46 1515.64 2266.64 1519.2 Q2264.83 1522.75 2264.83 1529.87 Q2264.83 1536.98 2266.64 1540.55 Q2268.46 1544.09 2272.08 1544.09 Q2275.71 1544.09 2277.52 1540.55 Q2279.34 1536.98 2279.34 1529.87 Q2279.34 1522.75 2277.52 1519.2 Q2275.71 1515.64 2272.08 1515.64 M2272.08 1511.93 Q2277.89 1511.93 2280.94 1516.54 Q2284.02 1521.12 2284.02 1529.87 Q2284.02 1538.6 2280.94 1543.21 Q2277.89 1547.79 2272.08 1547.79 Q2266.27 1547.79 2263.19 1543.21 Q2260.13 1538.6 2260.13 1529.87 Q2260.13 1521.12 2263.19 1516.54 Q2266.27 1511.93 2272.08 1511.93 Z\" fill=\"#000000\" fill-rule=\"evenodd\" fill-opacity=\"1\" /><path clip-path=\"url(#clip410)\" d=\"M 0 0 M2289.09 1541.24 L2293.97 1541.24 L2293.97 1547.12 L2289.09 1547.12 L2289.09 1541.24 Z\" fill=\"#000000\" fill-rule=\"evenodd\" fill-opacity=\"1\" /><path clip-path=\"url(#clip410)\" d=\"M 0 0 M2297.86 1512.56 L2320.08 1512.56 L2320.08 1514.55 L2307.54 1547.12 L2302.65 1547.12 L2314.46 1516.5 L2297.86 1516.5 L2297.86 1512.56 Z\" fill=\"#000000\" fill-rule=\"evenodd\" fill-opacity=\"1\" /><polyline clip-path=\"url(#clip412)\" style=\"stroke:#000000; stroke-width:2; stroke-opacity:0.1; fill:none\" points=\"\n",
       "  139.191,1322.98 2352.76,1322.98 \n",
       "  \"/>\n",
       "<polyline clip-path=\"url(#clip412)\" style=\"stroke:#000000; stroke-width:2; stroke-opacity:0.1; fill:none\" points=\"\n",
       "  139.191,1124.02 2352.76,1124.02 \n",
       "  \"/>\n",
       "<polyline clip-path=\"url(#clip412)\" style=\"stroke:#000000; stroke-width:2; stroke-opacity:0.1; fill:none\" points=\"\n",
       "  139.191,925.066 2352.76,925.066 \n",
       "  \"/>\n",
       "<polyline clip-path=\"url(#clip412)\" style=\"stroke:#000000; stroke-width:2; stroke-opacity:0.1; fill:none\" points=\"\n",
       "  139.191,726.11 2352.76,726.11 \n",
       "  \"/>\n",
       "<polyline clip-path=\"url(#clip412)\" style=\"stroke:#000000; stroke-width:2; stroke-opacity:0.1; fill:none\" points=\"\n",
       "  139.191,527.153 2352.76,527.153 \n",
       "  \"/>\n",
       "<polyline clip-path=\"url(#clip412)\" style=\"stroke:#000000; stroke-width:2; stroke-opacity:0.1; fill:none\" points=\"\n",
       "  139.191,328.197 2352.76,328.197 \n",
       "  \"/>\n",
       "<polyline clip-path=\"url(#clip412)\" style=\"stroke:#000000; stroke-width:2; stroke-opacity:0.1; fill:none\" points=\"\n",
       "  139.191,129.241 2352.76,129.241 \n",
       "  \"/>\n",
       "<polyline clip-path=\"url(#clip410)\" style=\"stroke:#000000; stroke-width:4; stroke-opacity:1; fill:none\" points=\"\n",
       "  139.191,1486.45 139.191,47.2441 \n",
       "  \"/>\n",
       "<polyline clip-path=\"url(#clip410)\" style=\"stroke:#000000; stroke-width:4; stroke-opacity:1; fill:none\" points=\"\n",
       "  139.191,1322.98 165.754,1322.98 \n",
       "  \"/>\n",
       "<polyline clip-path=\"url(#clip410)\" style=\"stroke:#000000; stroke-width:4; stroke-opacity:1; fill:none\" points=\"\n",
       "  139.191,1124.02 165.754,1124.02 \n",
       "  \"/>\n",
       "<polyline clip-path=\"url(#clip410)\" style=\"stroke:#000000; stroke-width:4; stroke-opacity:1; fill:none\" points=\"\n",
       "  139.191,925.066 165.754,925.066 \n",
       "  \"/>\n",
       "<polyline clip-path=\"url(#clip410)\" style=\"stroke:#000000; stroke-width:4; stroke-opacity:1; fill:none\" points=\"\n",
       "  139.191,726.11 165.754,726.11 \n",
       "  \"/>\n",
       "<polyline clip-path=\"url(#clip410)\" style=\"stroke:#000000; stroke-width:4; stroke-opacity:1; fill:none\" points=\"\n",
       "  139.191,527.153 165.754,527.153 \n",
       "  \"/>\n",
       "<polyline clip-path=\"url(#clip410)\" style=\"stroke:#000000; stroke-width:4; stroke-opacity:1; fill:none\" points=\"\n",
       "  139.191,328.197 165.754,328.197 \n",
       "  \"/>\n",
       "<polyline clip-path=\"url(#clip410)\" style=\"stroke:#000000; stroke-width:4; stroke-opacity:1; fill:none\" points=\"\n",
       "  139.191,129.241 165.754,129.241 \n",
       "  \"/>\n",
       "<path clip-path=\"url(#clip410)\" d=\"M 0 0 M91.2465 1308.78 Q87.6354 1308.78 85.8068 1312.34 Q84.0012 1315.88 84.0012 1323.01 Q84.0012 1330.12 85.8068 1333.68 Q87.6354 1337.23 91.2465 1337.23 Q94.8808 1337.23 96.6863 1333.68 Q98.515 1330.12 98.515 1323.01 Q98.515 1315.88 96.6863 1312.34 Q94.8808 1308.78 91.2465 1308.78 M91.2465 1305.07 Q97.0567 1305.07 100.112 1309.68 Q103.191 1314.26 103.191 1323.01 Q103.191 1331.74 100.112 1336.35 Q97.0567 1340.93 91.2465 1340.93 Q85.4364 1340.93 82.3577 1336.35 Q79.3022 1331.74 79.3022 1323.01 Q79.3022 1314.26 82.3577 1309.68 Q85.4364 1305.07 91.2465 1305.07 Z\" fill=\"#000000\" fill-rule=\"evenodd\" fill-opacity=\"1\" /><path clip-path=\"url(#clip410)\" d=\"M 0 0 M56.2699 1137.37 L63.9087 1137.37 L63.9087 1111 L55.5986 1112.67 L55.5986 1108.41 L63.8624 1106.74 L68.5383 1106.74 L68.5383 1137.37 L76.1772 1137.37 L76.1772 1141.3 L56.2699 1141.3 L56.2699 1137.37 Z\" fill=\"#000000\" fill-rule=\"evenodd\" fill-opacity=\"1\" /><path clip-path=\"url(#clip410)\" d=\"M 0 0 M91.2465 1109.82 Q87.6354 1109.82 85.8068 1113.39 Q84.0012 1116.93 84.0012 1124.06 Q84.0012 1131.16 85.8068 1134.73 Q87.6354 1138.27 91.2465 1138.27 Q94.8808 1138.27 96.6863 1134.73 Q98.515 1131.16 98.515 1124.06 Q98.515 1116.93 96.6863 1113.39 Q94.8808 1109.82 91.2465 1109.82 M91.2465 1106.12 Q97.0567 1106.12 100.112 1110.72 Q103.191 1115.31 103.191 1124.06 Q103.191 1132.78 100.112 1137.39 Q97.0567 1141.97 91.2465 1141.97 Q85.4364 1141.97 82.3577 1137.39 Q79.3022 1132.78 79.3022 1124.06 Q79.3022 1115.31 82.3577 1110.72 Q85.4364 1106.12 91.2465 1106.12 Z\" fill=\"#000000\" fill-rule=\"evenodd\" fill-opacity=\"1\" /><path clip-path=\"url(#clip410)\" d=\"M 0 0 M59.8578 938.41 L76.1772 938.41 L76.1772 942.346 L54.2328 942.346 L54.2328 938.41 Q56.8949 935.656 61.4782 931.026 Q66.0846 926.373 67.2652 925.031 Q69.5105 922.508 70.3902 920.772 Q71.2929 919.012 71.2929 917.323 Q71.2929 914.568 69.3485 912.832 Q67.4272 911.096 64.3254 911.096 Q62.1263 911.096 59.6726 911.86 Q57.2421 912.624 54.4643 914.174 L54.4643 909.452 Q57.2884 908.318 59.7421 907.739 Q62.1958 907.161 64.2328 907.161 Q69.6031 907.161 72.7976 909.846 Q75.992 912.531 75.992 917.022 Q75.992 919.151 75.1818 921.073 Q74.3948 922.971 72.2883 925.563 Q71.7096 926.235 68.6078 929.452 Q65.5059 932.647 59.8578 938.41 Z\" fill=\"#000000\" fill-rule=\"evenodd\" fill-opacity=\"1\" /><path clip-path=\"url(#clip410)\" d=\"M 0 0 M91.2465 910.864 Q87.6354 910.864 85.8068 914.429 Q84.0012 917.971 84.0012 925.1 Q84.0012 932.207 85.8068 935.772 Q87.6354 939.313 91.2465 939.313 Q94.8808 939.313 96.6863 935.772 Q98.515 932.207 98.515 925.1 Q98.515 917.971 96.6863 914.429 Q94.8808 910.864 91.2465 910.864 M91.2465 907.161 Q97.0567 907.161 100.112 911.767 Q103.191 916.35 103.191 925.1 Q103.191 933.827 100.112 938.434 Q97.0567 943.017 91.2465 943.017 Q85.4364 943.017 82.3577 938.434 Q79.3022 933.827 79.3022 925.1 Q79.3022 916.35 82.3577 911.767 Q85.4364 907.161 91.2465 907.161 Z\" fill=\"#000000\" fill-rule=\"evenodd\" fill-opacity=\"1\" /><path clip-path=\"url(#clip410)\" d=\"M 0 0 M69.0476 724.755 Q72.404 725.473 74.279 727.741 Q76.1772 730.01 76.1772 733.343 Q76.1772 738.459 72.6587 741.26 Q69.1402 744.061 62.6587 744.061 Q60.4828 744.061 58.168 743.621 Q55.8764 743.204 53.4227 742.348 L53.4227 737.834 Q55.3671 738.968 57.6819 739.547 Q59.9967 740.126 62.5198 740.126 Q66.918 740.126 69.2096 738.39 Q71.5244 736.653 71.5244 733.343 Q71.5244 730.288 69.3717 728.575 Q67.242 726.839 63.4226 726.839 L59.3949 726.839 L59.3949 722.996 L63.6078 722.996 Q67.0569 722.996 68.8855 721.63 Q70.7142 720.241 70.7142 717.649 Q70.7142 714.987 68.8161 713.575 Q66.9411 712.14 63.4226 712.14 Q61.5013 712.14 59.3023 712.556 Q57.1032 712.973 54.4643 713.853 L54.4643 709.686 Q57.1264 708.945 59.4412 708.575 Q61.7791 708.205 63.8393 708.205 Q69.1633 708.205 72.2652 710.635 Q75.367 713.042 75.367 717.163 Q75.367 720.033 73.7235 722.024 Q72.08 723.991 69.0476 724.755 Z\" fill=\"#000000\" fill-rule=\"evenodd\" fill-opacity=\"1\" /><path clip-path=\"url(#clip410)\" d=\"M 0 0 M91.2465 711.908 Q87.6354 711.908 85.8068 715.473 Q84.0012 719.015 84.0012 726.144 Q84.0012 733.251 85.8068 736.815 Q87.6354 740.357 91.2465 740.357 Q94.8808 740.357 96.6863 736.815 Q98.515 733.251 98.515 726.144 Q98.515 719.015 96.6863 715.473 Q94.8808 711.908 91.2465 711.908 M91.2465 708.205 Q97.0567 708.205 100.112 712.811 Q103.191 717.394 103.191 726.144 Q103.191 734.871 100.112 739.477 Q97.0567 744.061 91.2465 744.061 Q85.4364 744.061 82.3577 739.477 Q79.3022 734.871 79.3022 726.144 Q79.3022 717.394 82.3577 712.811 Q85.4364 708.205 91.2465 708.205 Z\" fill=\"#000000\" fill-rule=\"evenodd\" fill-opacity=\"1\" /><path clip-path=\"url(#clip410)\" d=\"M 0 0 M66.5939 513.947 L54.7884 532.396 L66.5939 532.396 L66.5939 513.947 M65.367 509.873 L71.2466 509.873 L71.2466 532.396 L76.1772 532.396 L76.1772 536.285 L71.2466 536.285 L71.2466 544.433 L66.5939 544.433 L66.5939 536.285 L50.9921 536.285 L50.9921 531.771 L65.367 509.873 Z\" fill=\"#000000\" fill-rule=\"evenodd\" fill-opacity=\"1\" /><path clip-path=\"url(#clip410)\" d=\"M 0 0 M91.2465 512.952 Q87.6354 512.952 85.8068 516.517 Q84.0012 520.059 84.0012 527.188 Q84.0012 534.295 85.8068 537.859 Q87.6354 541.401 91.2465 541.401 Q94.8808 541.401 96.6863 537.859 Q98.515 534.295 98.515 527.188 Q98.515 520.059 96.6863 516.517 Q94.8808 512.952 91.2465 512.952 M91.2465 509.248 Q97.0567 509.248 100.112 513.855 Q103.191 518.438 103.191 527.188 Q103.191 535.915 100.112 540.521 Q97.0567 545.105 91.2465 545.105 Q85.4364 545.105 82.3577 540.521 Q79.3022 535.915 79.3022 527.188 Q79.3022 518.438 82.3577 513.855 Q85.4364 509.248 91.2465 509.248 Z\" fill=\"#000000\" fill-rule=\"evenodd\" fill-opacity=\"1\" /><path clip-path=\"url(#clip410)\" d=\"M 0 0 M55.2745 310.917 L73.6309 310.917 L73.6309 314.852 L59.5569 314.852 L59.5569 323.325 Q60.5754 322.977 61.5939 322.815 Q62.6124 322.63 63.6309 322.63 Q69.418 322.63 72.7976 325.802 Q76.1772 328.973 76.1772 334.389 Q76.1772 339.968 72.705 343.07 Q69.2328 346.149 62.9134 346.149 Q60.7374 346.149 58.4689 345.778 Q56.2236 345.408 53.8162 344.667 L53.8162 339.968 Q55.8995 341.102 58.1217 341.658 Q60.3439 342.213 62.8208 342.213 Q66.8254 342.213 69.1633 340.107 Q71.5013 338.001 71.5013 334.389 Q71.5013 330.778 69.1633 328.672 Q66.8254 326.565 62.8208 326.565 Q60.9458 326.565 59.0708 326.982 Q57.2189 327.399 55.2745 328.278 L55.2745 310.917 Z\" fill=\"#000000\" fill-rule=\"evenodd\" fill-opacity=\"1\" /><path clip-path=\"url(#clip410)\" d=\"M 0 0 M91.2465 313.996 Q87.6354 313.996 85.8068 317.561 Q84.0012 321.102 84.0012 328.232 Q84.0012 335.338 85.8068 338.903 Q87.6354 342.445 91.2465 342.445 Q94.8808 342.445 96.6863 338.903 Q98.515 335.338 98.515 328.232 Q98.515 321.102 96.6863 317.561 Q94.8808 313.996 91.2465 313.996 M91.2465 310.292 Q97.0567 310.292 100.112 314.899 Q103.191 319.482 103.191 328.232 Q103.191 336.959 100.112 341.565 Q97.0567 346.149 91.2465 346.149 Q85.4364 346.149 82.3577 341.565 Q79.3022 336.959 79.3022 328.232 Q79.3022 319.482 82.3577 314.899 Q85.4364 310.292 91.2465 310.292 Z\" fill=\"#000000\" fill-rule=\"evenodd\" fill-opacity=\"1\" /><path clip-path=\"url(#clip410)\" d=\"M 0 0 M64.6495 127.378 Q61.5013 127.378 59.6495 129.531 Q57.8208 131.683 57.8208 135.433 Q57.8208 139.16 59.6495 141.336 Q61.5013 143.489 64.6495 143.489 Q67.7976 143.489 69.6263 141.336 Q71.4781 139.16 71.4781 135.433 Q71.4781 131.683 69.6263 129.531 Q67.7976 127.378 64.6495 127.378 M73.9318 112.725 L73.9318 116.984 Q72.1726 116.151 70.367 115.711 Q68.5846 115.271 66.8254 115.271 Q62.1958 115.271 59.7421 118.396 Q57.3115 121.521 56.9643 127.841 Q58.33 125.827 60.3902 124.762 Q62.4504 123.674 64.9272 123.674 Q70.1355 123.674 73.1448 126.845 Q76.1772 129.994 76.1772 135.433 Q76.1772 140.757 73.029 143.975 Q69.8809 147.193 64.6495 147.193 Q58.6541 147.193 55.4828 142.609 Q52.3116 138.003 52.3116 129.276 Q52.3116 121.082 56.2004 116.22 Q60.0893 111.336 66.6402 111.336 Q68.3994 111.336 70.1818 111.683 Q71.9874 112.031 73.9318 112.725 Z\" fill=\"#000000\" fill-rule=\"evenodd\" fill-opacity=\"1\" /><path clip-path=\"url(#clip410)\" d=\"M 0 0 M91.2465 115.04 Q87.6354 115.04 85.8068 118.605 Q84.0012 122.146 84.0012 129.276 Q84.0012 136.382 85.8068 139.947 Q87.6354 143.489 91.2465 143.489 Q94.8808 143.489 96.6863 139.947 Q98.515 136.382 98.515 129.276 Q98.515 122.146 96.6863 118.605 Q94.8808 115.04 91.2465 115.04 M91.2465 111.336 Q97.0567 111.336 100.112 115.943 Q103.191 120.526 103.191 129.276 Q103.191 138.003 100.112 142.609 Q97.0567 147.193 91.2465 147.193 Q85.4364 147.193 82.3577 142.609 Q79.3022 138.003 79.3022 129.276 Q79.3022 120.526 82.3577 115.943 Q85.4364 111.336 91.2465 111.336 Z\" fill=\"#000000\" fill-rule=\"evenodd\" fill-opacity=\"1\" /><polyline clip-path=\"url(#clip412)\" style=\"stroke:#009af9; stroke-width:4; stroke-opacity:1; fill:none\" points=\"\n",
       "  201.839,87.9763 254.046,226.046 306.252,347.393 358.459,454.476 410.666,549.329 462.873,633.65 515.079,708.861 567.286,776.16 619.493,836.561 671.699,890.925 \n",
       "  723.906,939.987 776.113,984.38 828.32,1024.64 880.526,1061.25 932.733,1094.6 984.94,1125.06 1037.15,1152.92 1089.35,1178.46 1141.56,1201.92 1193.77,1223.51 \n",
       "  1245.97,1243.4 1298.18,1261.76 1350.39,1278.73 1402.59,1294.45 1454.8,1309.02 1507.01,1322.56 1559.21,1335.14 1611.42,1346.86 1663.63,1357.78 1715.83,1367.98 \n",
       "  1768.04,1377.51 1820.25,1386.42 1872.45,1394.77 1924.66,1402.59 1976.87,1409.93 2029.07,1416.83 2081.28,1423.32 2133.49,1429.42 2185.69,1435.18 2237.9,1440.6 \n",
       "  2290.11,1445.72 \n",
       "  \"/>\n",
       "<path clip-path=\"url(#clip410)\" d=\"\n",
       "M1982 216.178 L2278.97 216.178 L2278.97 95.2176 L1982 95.2176  Z\n",
       "  \" fill=\"#ffffff\" fill-rule=\"evenodd\" fill-opacity=\"1\"/>\n",
       "<polyline clip-path=\"url(#clip410)\" style=\"stroke:#000000; stroke-width:4; stroke-opacity:1; fill:none\" points=\"\n",
       "  1982,216.178 2278.97,216.178 2278.97,95.2176 1982,95.2176 1982,216.178 \n",
       "  \"/>\n",
       "<polyline clip-path=\"url(#clip410)\" style=\"stroke:#009af9; stroke-width:4; stroke-opacity:1; fill:none\" points=\"\n",
       "  2006.6,155.698 2154.17,155.698 \n",
       "  \"/>\n",
       "<path clip-path=\"url(#clip410)\" d=\"M 0 0 M2192.6 175.385 Q2190.8 180.015 2189.09 181.427 Q2187.37 182.839 2184.5 182.839 L2181.1 182.839 L2181.1 179.274 L2183.6 179.274 Q2185.36 179.274 2186.33 178.44 Q2187.3 177.607 2188.48 174.505 L2189.25 172.561 L2178.76 147.052 L2183.28 147.052 L2191.38 167.329 L2199.48 147.052 L2203.99 147.052 L2192.6 175.385 Z\" fill=\"#000000\" fill-rule=\"evenodd\" fill-opacity=\"1\" /><path clip-path=\"url(#clip410)\" d=\"M 0 0 M2209.87 169.042 L2217.51 169.042 L2217.51 142.677 L2209.2 144.343 L2209.2 140.084 L2217.47 138.418 L2222.14 138.418 L2222.14 169.042 L2229.78 169.042 L2229.78 172.978 L2209.87 172.978 L2209.87 169.042 Z\" fill=\"#000000\" fill-rule=\"evenodd\" fill-opacity=\"1\" /></svg>\n"
      ]
     },
     "execution_count": 17,
     "metadata": {},
     "output_type": "execute_result"
    }
   ],
   "source": [
    "plot(xvals,yvals)"
   ]
  },
  {
   "cell_type": "code",
   "execution_count": 18,
   "metadata": {},
   "outputs": [
    {
     "data": {
      "text/plain": [
       "0.5503212079767968"
      ]
     },
     "execution_count": 18,
     "metadata": {},
     "output_type": "execute_result"
    }
   ],
   "source": [
    "sol_nm = nm(q,Dq,0.001)"
   ]
  },
  {
   "cell_type": "code",
   "execution_count": 19,
   "metadata": {},
   "outputs": [
    {
     "data": {
      "text/plain": [
       "NaN"
      ]
     },
     "execution_count": 19,
     "metadata": {},
     "output_type": "execute_result"
    }
   ],
   "source": [
    "sol_nm = nm(q,Dq,0.0)"
   ]
  },
  {
   "cell_type": "markdown",
   "metadata": {},
   "source": [
    "For my simple program, it just exits with a \"NaN.\" But in a canned package, it might appear that the solver finished, so always check the full output. \n"
   ]
  },
  {
   "cell_type": "markdown",
   "metadata": {},
   "source": [
    "### Quasi-Newton Methods\n",
    "\n",
    "Many times we do not have an analytical derivative:\n",
    "\n",
    "* It is difficult to compute analytically.\n",
    "* Potentially make mistakes in coding.\n",
    "* In general humans make mistakes.\n",
    "\n",
    "Quasi-Newton methods are the same as the Newton method, except with an approximation of the jacobian.\n",
    "\n",
    "\n",
    "#### Secant Method\n",
    "\n",
    "Univariate Newton method with Jacobian approximation.\n",
    "\n",
    "Replace $f'$ with an approximation from the last two function values:\n",
    "\n",
    "$f'(x^t) \\approx \\frac{f(x^t) - f(x^{t-1})}{x^t - x^{t-1}}$\n",
    "\n",
    "which yields the following update rule:\n",
    "\n",
    "$x^{t+1} \\leftarrow x^t - \\frac{ x^t - x^{t-1} }{ f(x^t) - f(x^{t-1}) } f(x^t)$\n",
    "\n",
    "You are constructing the approximating line through the two points $(x^t,f(x^t))$ and $(x^{t-1},f(x^{t-1}))$.\n",
    "\n",
    "\n",
    "<br><br><br><br><br> \n",
    "\n",
    "[GRAPH]\n",
    "\n",
    "<br><br><br><br><br>\n",
    "\n",
    "\n",
    "\n",
    "#### Broyden's Method\n",
    "\n",
    "Multivariate version of the secant method. \n",
    "\n",
    "* Generate a sequence of vectors $x^t$ and matrices $A^t$\n",
    "* These approximate the root and Jacobian of $f$\n",
    "* Guess $x^0$ and $A^0$.\n",
    "* $A^0$ is often set to the numerical jacobian at x^0.\n",
    "\n",
    "$f(x) \\approx f(x^t) + A^t(x-x^t) = 0$ \n",
    "which yields the following rule\n",
    "$x^{t+1} \\leftarrow x^t - (A^t)^{-1}f(x^t)$\n",
    "\n",
    "\n",
    "\n",
    "The Jacobian is also updated iteratively: \n",
    "$A^{t+1} \\leftarrow A^t + [f(x^{t+1}) - f(x^t) - A^td^t]\\frac{d^t}{d^td^t}$\n",
    "where $d^t = x^{t+1} - x^t$\n",
    "\n",
    "In practice we will update the inverse of the Jacboian to save an inversion step. \n",
    "\n",
    "**NOTE:** The sequence of approximations of the Jacobian DO NOT neccessarily  converge to the true Jacobian. \n",
    "\n",
    "\n",
    "This method will work if you start sufficiently close, and $f$ is well behaved...duh!\n",
    " \n",
    "In practice, I have used this method and it has worked very well for problems where the Jacobian diagonally dominant. \n"
   ]
  },
  {
   "cell_type": "markdown",
   "metadata": {},
   "source": [
    "### Elementary Methods\n",
    "\n",
    "\n",
    "* Let's day we have a system of $N$ non-linear equations and $N$ unknowns. \n",
    "* $f_1(x_1,...,x_n) = 0$\n",
    "* **Also**,order the $x$'s so that the $x$ that \"affects\" $f_i$ the most is in the \"correct\" position.\n",
    "* Ex. $\\frac{\\partial f_2}{\\partial x_2}>\\frac{\\partial f_2}{\\partial x_k}\\,\\,\\, \\forall k\\ne2$\n",
    "\n",
    "* Also, consider that the Jacobian is nightmare to compute for the entire system. \n",
    "    - Hard to derive analytically\n",
    "    - Costly to compute\n",
    "- **But**, $f_i(x_i;x_{i'})$ is not hard to compute.\n",
    "\n",
    "#### Main Idea\n",
    "* Go through system of equations, one equaiton at a time. \n",
    "* Solve each equation for the \"dominant\" unknown, *conditional* on the other unknowns. \n",
    "\n",
    "#### Gauss Jacobi \n",
    "\n",
    "```\n",
    "    while not converged\n",
    "  \n",
    "      for i=1:N\n",
    "        solve f_i(x_1...,x_N)=0 for x_i only\n",
    "        \n",
    "        (actually, no need to solve f_i exactly!!)\n",
    "        \n",
    "        save updated x_i but do not use\n",
    "        \n",
    "      end\n",
    "      \n",
    "      update x vector with new guesses\n",
    "      \n",
    "      convergence: x^new == x^old\n",
    "      \n",
    "    end    \n",
    "```\n",
    "\n",
    "#### Gauss Seidel\n",
    "\n",
    "```\n",
    "    while not converged\n",
    "  \n",
    "      for i=1:N\n",
    "        solve f_i(x_1...,x_N)=0 for x_i only\n",
    "        \n",
    "        (actually, no need to solve f_i exactly!!)\n",
    "        \n",
    "        update x_i\n",
    "        \n",
    "      end\n",
    "      \n",
    "      convergence: x^new == x^old\n",
    "      \n",
    "    end\n",
    "```\n",
    "\n",
    "#### Discussion\n",
    "\n",
    "* This obviously depends on ordering.\n",
    "* Not guaranteed to work.\n",
    "* Jacobi or Seidel might work better.\n",
    "* For best results, the Jacobian needs to be \"diagonally dominant\"\n",
    "* Good to combine with other methods\n",
    "    - First GJ, switch to Newton (if possible)\n",
    "* Can use Newton/Bisection/etc at inner step\n"
   ]
  },
  {
   "cell_type": "code",
   "execution_count": null,
   "metadata": {},
   "outputs": [],
   "source": [
    "\n"
   ]
  }
 ],
 "metadata": {
  "kernelspec": {
   "display_name": "Julia 1.5.1",
   "language": "julia",
   "name": "julia-1.5"
  },
  "language_info": {
   "file_extension": ".jl",
   "mimetype": "application/julia",
   "name": "julia",
   "version": "1.5.1"
  }
 },
 "nbformat": 4,
 "nbformat_minor": 2
}
